{
  "nbformat": 4,
  "nbformat_minor": 0,
  "metadata": {
    "colab": {
      "provenance": [],
      "authorship_tag": "ABX9TyMZvJEaTlCshzpAqLR3DUbY",
      "include_colab_link": true
    },
    "kernelspec": {
      "name": "python3",
      "display_name": "Python 3"
    },
    "language_info": {
      "name": "python"
    }
  },
  "cells": [
    {
      "cell_type": "markdown",
      "metadata": {
        "id": "view-in-github",
        "colab_type": "text"
      },
      "source": [
        "<a href=\"https://colab.research.google.com/github/tpezzin/rna/blob/main/RedeNeural_MNIST.ipynb\" target=\"_parent\"><img src=\"https://colab.research.google.com/assets/colab-badge.svg\" alt=\"Open In Colab\"/></a>"
      ]
    },
    {
      "cell_type": "markdown",
      "source": [
        "## Baixei o arquivo compactado disponibilizado em https://github.com/fboldt/aulasann/blob/main/mnist.zip, coloquei no meu drive já descompactado e segui com a utilização do dataset"
      ],
      "metadata": {
        "id": "vQOE8fvGOCXr"
      }
    },
    {
      "cell_type": "code",
      "source": [
        "import numpy as np"
      ],
      "metadata": {
        "id": "13uod2Rq8KGA"
      },
      "execution_count": 1,
      "outputs": []
    },
    {
      "cell_type": "code",
      "source": [
        "from google.colab import drive\n",
        "drive.mount('/content/gdrive')\n",
        "!ln -s /content/gdrive/My\\ Drive/ /mydrive"
      ],
      "metadata": {
        "colab": {
          "base_uri": "https://localhost:8080/"
        },
        "id": "tfkfTd2266_k",
        "outputId": "81526a05-3e6f-4722-9002-e30e1e9cfd04"
      },
      "execution_count": 2,
      "outputs": [
        {
          "output_type": "stream",
          "name": "stdout",
          "text": [
            "Drive already mounted at /content/gdrive; to attempt to forcibly remount, call drive.mount(\"/content/gdrive\", force_remount=True).\n",
            "ln: failed to create symbolic link '/mydrive/My Drive': File exists\n"
          ]
        }
      ]
    },
    {
      "cell_type": "code",
      "source": [
        "training_images_filepath = '/mydrive/RNA/MNIST/train-images.idx3-ubyte'\n",
        "training_labels_filepath = '/mydrive/RNA/MNIST/train-labels.idx1-ubyte'\n",
        "test_images_filepath = '/mydrive/RNA/MNIST/t10k-images.idx3-ubyte'\n",
        "test_labels_filepath = '/mydrive/RNA/MNIST/t10k-labels.idx1-ubyte'"
      ],
      "metadata": {
        "id": "OHertOWMM_cY"
      },
      "execution_count": 3,
      "outputs": []
    },
    {
      "cell_type": "code",
      "source": [
        "from mlxtend.data import loadlocal_mnist\n",
        "\n",
        "train_images, train_labels = loadlocal_mnist( training_images_filepath, training_labels_filepath)\n",
        "test_images, test_labels = loadlocal_mnist(test_images_filepath, test_labels_filepath)"
      ],
      "metadata": {
        "id": "5esVdFxcNRfe"
      },
      "execution_count": 4,
      "outputs": []
    },
    {
      "cell_type": "code",
      "source": [
        "(train_images.shape, train_labels), (test_images.shape, test_labels)"
      ],
      "metadata": {
        "colab": {
          "base_uri": "https://localhost:8080/"
        },
        "id": "spqvCYfFOx3r",
        "outputId": "e3a4efd7-f688-467a-ab57-a030b1b0a92a"
      },
      "execution_count": 5,
      "outputs": [
        {
          "output_type": "execute_result",
          "data": {
            "text/plain": [
              "(((60000, 784), array([5, 0, 4, ..., 5, 6, 8], dtype=uint8)),\n",
              " ((10000, 784), array([7, 2, 1, ..., 4, 5, 6], dtype=uint8)))"
            ]
          },
          "metadata": {},
          "execution_count": 5
        }
      ]
    },
    {
      "cell_type": "code",
      "source": [
        "from sklearn.base import BaseEstimator, ClassifierMixin, TransformerMixin\n",
        "\n",
        "class DividePor255(BaseEstimator, TransformerMixin):\n",
        "  def fit(self, X, y):\n",
        "    return self\n",
        "  def transform(self, X, y=None):\n",
        "    return X.astype(\"float32\") / 255"
      ],
      "metadata": {
        "id": "JitiS3w9QgcD"
      },
      "execution_count": 6,
      "outputs": []
    },
    {
      "cell_type": "code",
      "source": [
        "from sklearn.pipeline import Pipeline\n",
        "from tensorflow import keras\n",
        "from tensorflow.keras import layers\n",
        "from sklearn.metrics import accuracy_score\n",
        "import numpy as np\n",
        "\n",
        "class RedeNeural(BaseEstimator, ClassifierMixin):\n",
        "  def __init__(self, epochs=5, batch_size=128):\n",
        "    self.epochs = epochs\n",
        "    self.batch_size = batch_size\n",
        "\n",
        "  def fit(self, X, y):\n",
        "    self.labels, ids = np.unique(y, return_inverse=True)\n",
        "    yhot = keras.utils.to_categorical(ids)\n",
        "    self.model = keras.Sequential([\n",
        "        layers.Conv2D(4, 4, activation='relu'),\n",
        "        layers.Flatten(),\n",
        "        layers.Dense(512, activation=\"relu\"),\n",
        "        layers.Dense(yhot.shape[1], activation=\"softmax\")\n",
        "    ])\n",
        "    self.model.compile(optimizer=\"rmsprop\",\n",
        "                       loss=\"categorical_crossentropy\",\n",
        "                       metrics=[\"accuracy\"])\n",
        "    self.model.fit(X, yhot, epochs=self.epochs, batch_size=self.batch_size)\n",
        "    return self\n",
        "\n",
        "  def predict(self, X, y=None):\n",
        "    probabilities = self.model.predict(X)\n",
        "    ypred = self.labels[np.argmax(probabilities, axis=1)]\n",
        "    return ypred\n",
        "\n",
        "class MudaShape(BaseEstimator, TransformerMixin):\n",
        "  def fit(self, X, y):\n",
        "    return self\n",
        "  def transform(self, X, y=None):\n",
        "    return X.reshape((-1,28,28,1))\n",
        "\n",
        "modelo = Pipeline([\n",
        "    (\"scaler\", DividePor255()), \n",
        "    (\"reshape\", MudaShape()), \n",
        "    (\"ann\", RedeNeural(10))\n",
        "])\n",
        "modelo.fit(train_images, train_labels)\n",
        "ypred = modelo.predict(test_images)\n",
        "accuracy_score(test_labels, ypred)"
      ],
      "metadata": {
        "colab": {
          "base_uri": "https://localhost:8080/"
        },
        "id": "FTHf35emPRLo",
        "outputId": "edbd84de-b62a-422d-d422-e585abc1e4a9"
      },
      "execution_count": 7,
      "outputs": [
        {
          "output_type": "stream",
          "name": "stdout",
          "text": [
            "Epoch 1/10\n",
            "469/469 [==============================] - 37s 76ms/step - loss: 0.2410 - accuracy: 0.9275\n",
            "Epoch 2/10\n",
            "469/469 [==============================] - 30s 64ms/step - loss: 0.0778 - accuracy: 0.9763\n",
            "Epoch 3/10\n",
            "469/469 [==============================] - 30s 63ms/step - loss: 0.0486 - accuracy: 0.9849\n",
            "Epoch 4/10\n",
            "469/469 [==============================] - 30s 63ms/step - loss: 0.0331 - accuracy: 0.9897\n",
            "Epoch 5/10\n",
            "469/469 [==============================] - 29s 62ms/step - loss: 0.0230 - accuracy: 0.9927\n",
            "Epoch 6/10\n",
            "469/469 [==============================] - 29s 62ms/step - loss: 0.0151 - accuracy: 0.9954\n",
            "Epoch 7/10\n",
            "469/469 [==============================] - 30s 64ms/step - loss: 0.0105 - accuracy: 0.9969\n",
            "Epoch 8/10\n",
            "469/469 [==============================] - 32s 68ms/step - loss: 0.0068 - accuracy: 0.9980\n",
            "Epoch 9/10\n",
            "469/469 [==============================] - 29s 62ms/step - loss: 0.0055 - accuracy: 0.9983\n",
            "Epoch 10/10\n",
            "469/469 [==============================] - 29s 62ms/step - loss: 0.0030 - accuracy: 0.9991\n",
            "313/313 [==============================] - 2s 7ms/step\n"
          ]
        },
        {
          "output_type": "execute_result",
          "data": {
            "text/plain": [
              "0.9877"
            ]
          },
          "metadata": {},
          "execution_count": 7
        }
      ]
    }
  ]
}